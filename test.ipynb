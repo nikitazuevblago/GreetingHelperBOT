{
 "cells": [
  {
   "cell_type": "code",
   "execution_count": 2,
   "metadata": {},
   "outputs": [],
   "source": [
    "from db_interaction import *\n",
    "drop_tables_DB()\n",
    "create_tables_DB()"
   ]
  },
  {
   "cell_type": "code",
   "execution_count": null,
   "metadata": {},
   "outputs": [
    {
     "name": "stdout",
     "output_type": "stream",
     "text": [
      "(1, datetime.datetime(2024, 12, 20, 21, 16, 54, 389459), 'INFO', '2024-12-20 21:16:57,368 - Table logs created successfully.')\n",
      "(2, datetime.datetime(2024, 12, 20, 21, 16, 54, 414348), 'INFO', '2024-12-20 21:16:57,399 - Creating table USERS...')\n",
      "(3, datetime.datetime(2024, 12, 20, 21, 16, 54, 471538), 'INFO', '2024-12-20 21:16:57,462 - Table USERS created successfully.')\n",
      "(4, datetime.datetime(2024, 12, 20, 21, 16, 54, 507734), 'INFO', '2024-12-20 21:16:57,493 - Creating table HOLIDAYS...')\n",
      "(5, datetime.datetime(2024, 12, 20, 21, 16, 54, 563982), 'INFO', '2024-12-20 21:16:57,555 - Table HOLIDAYS created successfully.')\n",
      "(6, datetime.datetime(2024, 12, 20, 21, 16, 54, 616132), 'INFO', '2024-12-20 21:16:57,602 - Database connection closed after table creation.')\n",
      "(7, datetime.datetime(2024, 12, 20, 21, 16, 54, 635535), 'INFO', '2024-12-20 21:16:57,618 - Test mode enabled. Dropping and recreating tables.')\n",
      "(8, datetime.datetime(2024, 12, 20, 21, 16, 54, 654613), 'INFO', '2024-12-20 21:16:57,633 - Starting bot...')\n",
      "(9, datetime.datetime(2024, 12, 20, 21, 16, 54, 791251), 'INFO', '2024-12-20 21:16:57,774 - Bot commands have been set successfully.')\n",
      "(10, datetime.datetime(2024, 12, 20, 21, 16, 54, 810197), 'INFO', '2024-12-20 21:16:57,790 - Bot polling started.')\n",
      "(11, datetime.datetime(2024, 12, 20, 21, 16, 54, 828604), 'INFO', '2024-12-20 21:16:57,821 - Start polling')\n",
      "(12, datetime.datetime(2024, 12, 20, 21, 16, 54, 873392), 'INFO', \"2024-12-20 21:16:57,852 - Run polling for bot @GreetingHelperBOT id=7751098485 - 'Greeting Helper'\")\n",
      "(13, datetime.datetime(2024, 12, 20, 21, 16, 55, 376913), 'INFO', '2024-12-20 21:16:58,368 - Update id=971907707 is handled. Duration 204 ms by bot id=7751098485')\n",
      "(14, datetime.datetime(2024, 12, 20, 21, 16, 56, 866182), 'INFO', '2024-12-20 21:16:59,852 - Update id=971907708 is handled. Duration 63 ms by bot id=7751098485')\n",
      "(15, datetime.datetime(2024, 12, 20, 21, 16, 58, 966056), 'INFO', '2024-12-20 21:17:01,946 - Update id=971907709 is handled. Duration 94 ms by bot id=7751098485')\n",
      "(16, datetime.datetime(2024, 12, 20, 21, 17, 0, 414831), 'INFO', '2024-12-20 21:17:03,407 - Update id=971907710 is handled. Duration 139 ms by bot id=7751098485')\n",
      "(17, datetime.datetime(2024, 12, 20, 21, 17, 2, 731290), 'INFO', \"2024-12-20 21:17:05,723 - Adding holiday '12-02' for Telegram user 5303965494 to HOLIDAYS table...\")\n",
      "(18, datetime.datetime(2024, 12, 20, 21, 17, 2, 853516), 'INFO', '2024-12-20 21:17:05,846 - Database connection established for adding holiday.')\n",
      "(19, datetime.datetime(2024, 12, 20, 21, 17, 2, 910276), 'ERROR', '2024-12-20 21:17:05,901 - An error occurred: integer out of range\\n')\n",
      "(20, datetime.datetime(2024, 12, 20, 21, 17, 2, 948167), 'INFO', '2024-12-20 21:17:05,939 - Database connection closed after adding holiday.')\n",
      "(21, datetime.datetime(2024, 12, 20, 21, 17, 2, 966105), 'ERROR', '2024-12-20 21:17:05,959 - An error occurred while adding holiday: integer out of range\\n')\n",
      "(22, datetime.datetime(2024, 12, 20, 21, 17, 3, 46477), 'INFO', '2024-12-20 21:17:06,039 - Update id=971907711 is handled. Duration 311 ms by bot id=7751098485')\n"
     ]
    }
   ],
   "source": [
    "import psycopg2\n",
    "from dotenv import load_dotenv\n",
    "\n",
    "load_dotenv()\n",
    "\n",
    "import os\n",
    "def check_db_entries():\n",
    "    connection = psycopg2.connect(\n",
    "        user=os.getenv(\"DB_USER\"),\n",
    "        password=os.getenv(\"DB_PASSWORD\"),\n",
    "        host=os.getenv(\"DB_HOST\"),\n",
    "        port=os.getenv(\"DB_PORT\"),\n",
    "        database=os.getenv(\"DB_DATABASE\")\n",
    "    )\n",
    "    try:\n",
    "        cursor = connection.cursor()\n",
    "        cursor.execute(\"SELECT * FROM HOLIDAYS;\")\n",
    "        #cursor.execute(f\"INSERT INTO MAILING_HISTORY (DATE) VALUES ('{current_date}');\")\n",
    "        records = cursor.fetchall()\n",
    "        for record in records:\n",
    "            print(record)\n",
    "        connection.commit()\n",
    "        #return records\n",
    "    except Exception as error:\n",
    "        print(f\"An error occurred: {error}\")\n",
    "    finally:\n",
    "        cursor.close()\n",
    "        connection.close()\n",
    "\n",
    "check_db_entries()\n"
   ]
  }
 ],
 "metadata": {
  "kernelspec": {
   "display_name": ".venv",
   "language": "python",
   "name": "python3"
  },
  "language_info": {
   "codemirror_mode": {
    "name": "ipython",
    "version": 3
   },
   "file_extension": ".py",
   "mimetype": "text/x-python",
   "name": "python",
   "nbconvert_exporter": "python",
   "pygments_lexer": "ipython3",
   "version": "3.11.9"
  }
 },
 "nbformat": 4,
 "nbformat_minor": 2
}
