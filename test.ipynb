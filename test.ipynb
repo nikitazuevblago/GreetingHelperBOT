{
 "cells": [
  {
   "cell_type": "code",
   "execution_count": 2,
   "metadata": {},
   "outputs": [],
   "source": [
    "from db_interaction import *\n",
    "drop_tables_DB()\n",
    "create_tables_DB()"
   ]
  },
  {
   "cell_type": "code",
   "execution_count": 9,
   "metadata": {},
   "outputs": [
    {
     "name": "stdout",
     "output_type": "stream",
     "text": [
      "(1, datetime.datetime(2024, 12, 21, 13, 0, 26, 520409), 'INFO', '2024-12-21 13:00:27,646 - Table logs created successfully.')\n",
      "(2, datetime.datetime(2024, 12, 21, 13, 0, 26, 540006), 'INFO', '2024-12-21 13:00:27,670 - Creating table USERS...')\n",
      "(3, datetime.datetime(2024, 12, 21, 13, 0, 26, 597435), 'INFO', '2024-12-21 13:00:27,727 - Table USERS created successfully.')\n",
      "(4, datetime.datetime(2024, 12, 21, 13, 0, 26, 635243), 'INFO', '2024-12-21 13:00:27,757 - Creating table HOLIDAYS...')\n",
      "(5, datetime.datetime(2024, 12, 21, 13, 0, 26, 692940), 'ERROR', '2024-12-21 13:00:27,818 - An error occurred while creating tables: multiple primary keys for table \"holidays\" are not allowed\\nLINE 4:                 TELEGRAM_ID BIGINT PRIMARY KEY,\\n                                           ^\\n')\n",
      "(6, datetime.datetime(2024, 12, 21, 13, 0, 26, 732155), 'INFO', '2024-12-21 13:00:27,861 - Database connection closed after table creation.')\n",
      "(7, datetime.datetime(2024, 12, 21, 13, 0, 26, 753538), 'INFO', '2024-12-21 13:00:27,881 - Test mode enabled. Dropping and recreating tables.')\n",
      "(8, datetime.datetime(2024, 12, 21, 13, 0, 26, 776181), 'INFO', '2024-12-21 13:00:27,902 - Starting bot...')\n",
      "(9, datetime.datetime(2024, 12, 21, 13, 0, 26, 967000), 'INFO', '2024-12-21 13:00:28,092 - Bot commands have been set successfully.')\n",
      "(10, datetime.datetime(2024, 12, 21, 13, 0, 26, 984926), 'INFO', '2024-12-21 13:00:28,115 - Bot polling started.')\n",
      "(11, datetime.datetime(2024, 12, 21, 13, 0, 27, 3310), 'INFO', '2024-12-21 13:00:28,131 - Start polling')\n",
      "(12, datetime.datetime(2024, 12, 21, 13, 0, 27, 48986), 'INFO', \"2024-12-21 13:00:28,179 - Run polling for bot @GreetingHelperBOT id=7751098485 - 'Greeting Helper'\")\n",
      "(13, datetime.datetime(2024, 12, 21, 13, 0, 27, 108361), 'INFO', '2024-12-21 13:00:28,227 - User 5303965494 triggered /register command.')\n",
      "(14, datetime.datetime(2024, 12, 21, 13, 0, 27, 451893), 'INFO', '2024-12-21 13:00:28,579 - Update id=971907768 is handled. Duration 358 ms by bot id=7751098485')\n",
      "(15, datetime.datetime(2024, 12, 21, 13, 0, 30, 754537), 'INFO', '2024-12-21 13:00:31,884 - User 5303965494 sent tg_credentials')\n",
      "(16, datetime.datetime(2024, 12, 21, 13, 0, 30, 836236), 'INFO', '2024-12-21 13:00:31,966 - Update id=971907769 is handled. Duration 94 ms by bot id=7751098485')\n",
      "(17, datetime.datetime(2024, 12, 21, 13, 0, 33, 516617), 'INFO', '2024-12-21 13:00:34,646 - User 5303965494 sent phone number')\n",
      "(18, datetime.datetime(2024, 12, 21, 13, 0, 33, 535164), 'INFO', '2024-12-21 13:00:34,666 - Requested login code for phone number: +43 677 62447023')\n",
      "(19, datetime.datetime(2024, 12, 21, 13, 0, 33, 659475), 'INFO', '2024-12-21 13:00:34,789 - Update id=971907770 is handled. Duration 140 ms by bot id=7751098485')\n",
      "(20, datetime.datetime(2024, 12, 21, 13, 0, 59, 830852), 'INFO', '2024-12-21 13:01:00,958 - Polling stopped')\n",
      "(21, datetime.datetime(2024, 12, 21, 13, 1, 0, 109778), 'INFO', \"2024-12-21 13:01:01,240 - Polling stopped for bot @GreetingHelperBOT id=7751098485 - 'Greeting Helper'\")\n",
      "(22, datetime.datetime(2024, 12, 21, 13, 1, 0, 132844), 'INFO', '2024-12-21 13:01:01,258 - Bot stopped')\n"
     ]
    }
   ],
   "source": [
    "import psycopg2\n",
    "from dotenv import load_dotenv\n",
    "\n",
    "load_dotenv()\n",
    "\n",
    "import os\n",
    "def check_db_entries():\n",
    "    connection = psycopg2.connect(\n",
    "        user=os.getenv(\"DB_USER\"),\n",
    "        password=os.getenv(\"DB_PASSWORD\"),\n",
    "        host=os.getenv(\"DB_HOST\"),\n",
    "        port=os.getenv(\"DB_PORT\"),\n",
    "        database=os.getenv(\"DB_DATABASE\")\n",
    "    )\n",
    "    try:\n",
    "        cursor = connection.cursor()\n",
    "        cursor.execute(\"SELECT * FROM LOGS;\")\n",
    "        records = cursor.fetchall()\n",
    "        for record in records:\n",
    "            print(record)\n",
    "        connection.commit()\n",
    "        #return records\n",
    "    except Exception as error:\n",
    "        print(f\"An error occurred: {error}\")\n",
    "    finally:\n",
    "        cursor.close()\n",
    "        connection.close()\n",
    "\n",
    "check_db_entries()\n"
   ]
  },
  {
   "cell_type": "code",
   "execution_count": 2,
   "metadata": {},
   "outputs": [],
   "source": [
    "from db_interaction import *\n",
    "\n",
    "create_tables_DB()\n",
    "drop_tables_DB()\n",
    "create_tables_DB()"
   ]
  },
  {
   "cell_type": "code",
   "execution_count": 8,
   "metadata": {},
   "outputs": [
    {
     "data": {
      "text/plain": [
       "2"
      ]
     },
     "execution_count": 8,
     "metadata": {},
     "output_type": "execute_result"
    }
   ],
   "source": [
    "len(get_all_users_DB())"
   ]
  },
  {
   "cell_type": "code",
   "execution_count": 7,
   "metadata": {},
   "outputs": [],
   "source": [
    "telegram_id = 234\n",
    "api_id = 1242343\n",
    "api_hash = \"2342\"\n",
    "phone_number = \"+234234\"\n",
    "add_user_DB(telegram_id, api_id, api_hash, phone_number)"
   ]
  },
  {
   "cell_type": "code",
   "execution_count": null,
   "metadata": {},
   "outputs": [],
   "source": []
  }
 ],
 "metadata": {
  "kernelspec": {
   "display_name": ".venv",
   "language": "python",
   "name": "python3"
  },
  "language_info": {
   "codemirror_mode": {
    "name": "ipython",
    "version": 3
   },
   "file_extension": ".py",
   "mimetype": "text/x-python",
   "name": "python",
   "nbconvert_exporter": "python",
   "pygments_lexer": "ipython3",
   "version": "3.11.9"
  }
 },
 "nbformat": 4,
 "nbformat_minor": 2
}
