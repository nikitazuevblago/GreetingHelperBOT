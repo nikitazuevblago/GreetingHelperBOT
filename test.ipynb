{
 "cells": [
  {
   "cell_type": "code",
   "execution_count": 2,
   "metadata": {},
   "outputs": [],
   "source": [
    "from db_interaction import *\n",
    "drop_tables_DB()\n",
    "create_tables_DB()"
   ]
  },
  {
   "cell_type": "code",
   "execution_count": 10,
   "metadata": {},
   "outputs": [
    {
     "name": "stdout",
     "output_type": "stream",
     "text": [
      "(1, datetime.datetime(2024, 12, 21, 18, 52, 53, 317787), 'INFO', '2024-12-21 18:52:53,481 - Table logs created successfully.')\n",
      "(2, datetime.datetime(2024, 12, 21, 18, 52, 53, 336785), 'INFO', '2024-12-21 18:52:53,496 - Creating table USERS...')\n",
      "(3, datetime.datetime(2024, 12, 21, 18, 52, 53, 396134), 'INFO', '2024-12-21 18:52:53,559 - Table USERS created successfully.')\n",
      "(4, datetime.datetime(2024, 12, 21, 18, 52, 53, 434487), 'INFO', '2024-12-21 18:52:53,590 - Creating table HOLIDAYS...')\n",
      "(5, datetime.datetime(2024, 12, 21, 18, 52, 53, 495613), 'INFO', '2024-12-21 18:52:53,653 - Table HOLIDAYS created successfully.')\n",
      "(6, datetime.datetime(2024, 12, 21, 18, 52, 53, 534158), 'INFO', '2024-12-21 18:52:53,700 - Database connection closed after table creation.')\n",
      "(7, datetime.datetime(2024, 12, 21, 18, 52, 53, 553579), 'INFO', '2024-12-21 18:52:53,715 - Test mode enabled. Dropping and recreating tables.')\n",
      "(8, datetime.datetime(2024, 12, 21, 18, 52, 53, 574627), 'INFO', '2024-12-21 18:52:53,731 - Starting bot...')\n",
      "(9, datetime.datetime(2024, 12, 21, 18, 52, 53, 712330), 'INFO', '2024-12-21 18:52:53,871 - Bot commands have been set successfully.')\n",
      "(10, datetime.datetime(2024, 12, 21, 18, 52, 53, 730553), 'INFO', '2024-12-21 18:52:53,887 - Bot polling started.')\n",
      "(11, datetime.datetime(2024, 12, 21, 18, 52, 53, 749148), 'INFO', '2024-12-21 18:52:53,903 - Start polling')\n",
      "(12, datetime.datetime(2024, 12, 21, 18, 52, 53, 798176), 'INFO', \"2024-12-21 18:52:53,965 - Run polling for bot @GreetingHelperBOT id=7751098485 - 'Greeting Helper'\")\n",
      "(13, datetime.datetime(2024, 12, 21, 18, 52, 53, 852495), 'INFO', '2024-12-21 18:52:54,012 - User 5303965494 triggered /register command.')\n",
      "(14, datetime.datetime(2024, 12, 21, 18, 52, 54, 71567), 'INFO', '2024-12-21 18:52:54,231 - Update id=971907825 is handled. Duration 218 ms by bot id=7751098485')\n",
      "(15, datetime.datetime(2024, 12, 21, 18, 52, 56, 629189), 'INFO', '2024-12-21 18:52:56,796 - User 5303965494 sent tg_credentials')\n",
      "(16, datetime.datetime(2024, 12, 21, 18, 52, 56, 695776), 'INFO', '2024-12-21 18:52:56,863 - Update id=971907826 is handled. Duration 63 ms by bot id=7751098485')\n",
      "(17, datetime.datetime(2024, 12, 21, 18, 53, 0, 593138), 'INFO', '2024-12-21 18:53:00,760 - User 5303965494 sent phone number')\n",
      "(18, datetime.datetime(2024, 12, 21, 18, 53, 1, 45917), 'INFO', '2024-12-21 18:53:01,213 - Start creating a new auth key on DC2')\n",
      "(19, datetime.datetime(2024, 12, 21, 18, 53, 1, 64868), 'INFO', '2024-12-21 18:53:01,232 - Connecting...')\n",
      "(20, datetime.datetime(2024, 12, 21, 18, 53, 1, 107932), 'INFO', '2024-12-21 18:53:01,274 - Connected! Production DC2 - IPv4')\n",
      "(21, datetime.datetime(2024, 12, 21, 18, 53, 2, 64022), 'INFO', '2024-12-21 18:53:02,229 - Done auth key exchange: DhGenOk')\n",
      "(22, datetime.datetime(2024, 12, 21, 18, 53, 2, 83176), 'INFO', '2024-12-21 18:53:02,245 - Disconnected')\n",
      "(23, datetime.datetime(2024, 12, 21, 18, 53, 2, 118146), 'INFO', '2024-12-21 18:53:02,276 - Connecting...')\n",
      "(24, datetime.datetime(2024, 12, 21, 18, 53, 2, 163648), 'INFO', '2024-12-21 18:53:02,323 - Connected! Production DC2 - IPv4')\n",
      "(25, datetime.datetime(2024, 12, 21, 18, 53, 2, 183418), 'INFO', '2024-12-21 18:53:02,338 - NetworkTask started')\n",
      "(26, datetime.datetime(2024, 12, 21, 18, 53, 2, 401913), 'INFO', '2024-12-21 18:53:02,557 - Session initialized: Layer 158')\n",
      "(27, datetime.datetime(2024, 12, 21, 18, 53, 2, 426931), 'INFO', '2024-12-21 18:53:02,588 - Device: CPython 3.11.9 - Pyrogram 2.0.106')\n",
      "(28, datetime.datetime(2024, 12, 21, 18, 53, 2, 446475), 'INFO', '2024-12-21 18:53:02,604 - System: Windows 10 (en)')\n",
      "(29, datetime.datetime(2024, 12, 21, 18, 53, 2, 466610), 'INFO', '2024-12-21 18:53:02,619 - Session started')\n",
      "(30, datetime.datetime(2024, 12, 21, 18, 53, 2, 487325), 'INFO', '2024-12-21 18:53:02,651 - PingTask started')\n",
      "(31, datetime.datetime(2024, 12, 21, 18, 53, 2, 642648), 'INFO', '2024-12-21 18:53:02,807 - Code sent to +43 677 62447023: {\\n    \"_\": \"SentCode\",\\n    \"type\": \"SentCodeType.APP\",\\n    \"phone_code_hash\": \"dc9496ce5d1aa9bcc3\"\\n}')\n",
      "(32, datetime.datetime(2024, 12, 21, 18, 53, 2, 733743), 'INFO', '2024-12-21 18:53:02,900 - Update id=971907827 is handled. Duration 2140 ms by bot id=7751098485')\n",
      "(33, datetime.datetime(2024, 12, 21, 18, 53, 9, 920237), 'INFO', '2024-12-21 18:53:10,088 - User 5303965494 sent OTP code')\n",
      "(34, datetime.datetime(2024, 12, 21, 18, 53, 9, 939007), 'INFO', '2024-12-21 18:53:10,106 - Fetching all users from USERS table...')\n",
      "(35, datetime.datetime(2024, 12, 21, 18, 53, 10, 59143), 'INFO', '2024-12-21 18:53:10,226 - Database connection established for fetching users.')\n",
      "(36, datetime.datetime(2024, 12, 21, 18, 53, 10, 114542), 'INFO', '2024-12-21 18:53:10,282 - Fetched 0 users.')\n",
      "(37, datetime.datetime(2024, 12, 21, 18, 53, 10, 134287), 'INFO', '2024-12-21 18:53:10,300 - Database connection closed after fetching users.')\n",
      "(38, datetime.datetime(2024, 12, 21, 18, 53, 10, 153479), 'INFO', '2024-12-21 18:53:10,320 - Adding user 5303965494 to USERS table...')\n",
      "(39, datetime.datetime(2024, 12, 21, 18, 53, 10, 278446), 'INFO', '2024-12-21 18:53:10,446 - Database connection established for adding user.')\n",
      "(40, datetime.datetime(2024, 12, 21, 18, 53, 10, 354456), 'INFO', '2024-12-21 18:53:10,522 - User 5303965494 added successfully.')\n",
      "(41, datetime.datetime(2024, 12, 21, 18, 53, 10, 378260), 'INFO', '2024-12-21 18:53:10,543 - Database connection closed after adding user.')\n",
      "(42, datetime.datetime(2024, 12, 21, 18, 53, 10, 396848), 'INFO', '2024-12-21 18:53:10,564 - User 5303965494 registered successfully.')\n",
      "(43, datetime.datetime(2024, 12, 21, 18, 53, 10, 415873), 'ERROR', \"2024-12-21 18:53:10,583 - Error during login: SignIn.sign_in() missing 1 required positional argument: 'phone_code'\")\n",
      "(44, datetime.datetime(2024, 12, 21, 18, 53, 10, 434603), 'INFO', '2024-12-21 18:53:10,601 - PingTask stopped')\n",
      "(45, datetime.datetime(2024, 12, 21, 18, 53, 10, 463309), 'INFO', '2024-12-21 18:53:10,630 - Disconnected')\n",
      "(46, datetime.datetime(2024, 12, 21, 18, 53, 10, 481499), 'INFO', '2024-12-21 18:53:10,649 - NetworkTask stopped')\n",
      "(47, datetime.datetime(2024, 12, 21, 18, 53, 10, 499965), 'INFO', '2024-12-21 18:53:10,667 - Session stopped')\n",
      "(48, datetime.datetime(2024, 12, 21, 18, 53, 10, 572500), 'INFO', '2024-12-21 18:53:10,740 - Start creating a new auth key on DC2')\n",
      "(49, datetime.datetime(2024, 12, 21, 18, 53, 10, 592267), 'INFO', '2024-12-21 18:53:10,759 - Connecting...')\n",
      "(50, datetime.datetime(2024, 12, 21, 18, 53, 10, 650266), 'INFO', '2024-12-21 18:53:10,817 - Connected! Production DC2 - IPv4')\n",
      "(51, datetime.datetime(2024, 12, 21, 18, 53, 12, 126237), 'INFO', '2024-12-21 18:53:12,293 - Done auth key exchange: DhGenOk')\n",
      "(52, datetime.datetime(2024, 12, 21, 18, 53, 12, 146459), 'INFO', '2024-12-21 18:53:12,313 - Disconnected')\n",
      "(53, datetime.datetime(2024, 12, 21, 18, 53, 12, 193433), 'INFO', '2024-12-21 18:53:12,360 - Connecting...')\n",
      "(54, datetime.datetime(2024, 12, 21, 18, 53, 12, 238430), 'INFO', '2024-12-21 18:53:12,403 - Connected! Production DC2 - IPv4')\n",
      "(55, datetime.datetime(2024, 12, 21, 18, 53, 12, 257296), 'INFO', '2024-12-21 18:53:12,424 - NetworkTask started')\n",
      "(56, datetime.datetime(2024, 12, 21, 18, 53, 12, 423423), 'INFO', '2024-12-21 18:53:12,589 - Session initialized: Layer 158')\n",
      "(57, datetime.datetime(2024, 12, 21, 18, 53, 12, 443407), 'INFO', '2024-12-21 18:53:12,609 - Device: CPython 3.11.9 - Pyrogram 2.0.106')\n",
      "(58, datetime.datetime(2024, 12, 21, 18, 53, 12, 463404), 'INFO', '2024-12-21 18:53:12,630 - System: Windows 10 (en)')\n",
      "(59, datetime.datetime(2024, 12, 21, 18, 53, 12, 486632), 'INFO', '2024-12-21 18:53:12,654 - Session started')\n",
      "(60, datetime.datetime(2024, 12, 21, 18, 53, 12, 511325), 'INFO', '2024-12-21 18:53:12,677 - PingTask started')\n",
      "(61, datetime.datetime(2024, 12, 21, 18, 53, 12, 566984), 'ERROR', '2024-12-21 18:53:12,734 - Failed to send message: Telegram says: [401 AUTH_KEY_UNREGISTERED] - The key is not registered in the system. Delete your session file and login again (caused by \"contacts.ResolveUsername\")')\n",
      "(62, datetime.datetime(2024, 12, 21, 18, 53, 12, 585027), 'INFO', '2024-12-21 18:53:12,752 - PingTask stopped')\n",
      "(63, datetime.datetime(2024, 12, 21, 18, 53, 12, 603673), 'INFO', '2024-12-21 18:53:12,771 - Disconnected')\n",
      "(64, datetime.datetime(2024, 12, 21, 18, 53, 12, 621857), 'INFO', '2024-12-21 18:53:12,789 - NetworkTask stopped')\n",
      "(65, datetime.datetime(2024, 12, 21, 18, 53, 12, 640631), 'INFO', '2024-12-21 18:53:12,808 - Session stopped')\n",
      "(66, datetime.datetime(2024, 12, 21, 18, 53, 12, 757477), 'INFO', '2024-12-21 18:53:12,925 - Update id=971907828 is handled. Duration 2843 ms by bot id=7751098485')\n"
     ]
    }
   ],
   "source": [
    "import psycopg2\n",
    "from dotenv import load_dotenv\n",
    "\n",
    "load_dotenv()\n",
    "\n",
    "import os\n",
    "def check_db_entries():\n",
    "    connection = psycopg2.connect(\n",
    "        user=os.getenv(\"DB_USER\"),\n",
    "        password=os.getenv(\"DB_PASSWORD\"),\n",
    "        host=os.getenv(\"DB_HOST\"),\n",
    "        port=os.getenv(\"DB_PORT\"),\n",
    "        database=os.getenv(\"DB_DATABASE\")\n",
    "    )\n",
    "    try:\n",
    "        cursor = connection.cursor()\n",
    "        cursor.execute(\"SELECT * FROM LOGS;\")\n",
    "        records = cursor.fetchall()\n",
    "        for record in records:\n",
    "            print(record)\n",
    "        connection.commit()\n",
    "        #return records\n",
    "    except Exception as error:\n",
    "        print(f\"An error occurred: {error}\")\n",
    "    finally:\n",
    "        cursor.close()\n",
    "        connection.close()\n",
    "\n",
    "check_db_entries()"
   ]
  },
  {
   "cell_type": "code",
   "execution_count": 2,
   "metadata": {},
   "outputs": [],
   "source": [
    "from db_interaction import *\n",
    "\n",
    "create_tables_DB()\n",
    "drop_tables_DB()\n",
    "create_tables_DB()"
   ]
  },
  {
   "cell_type": "code",
   "execution_count": 8,
   "metadata": {},
   "outputs": [
    {
     "data": {
      "text/plain": [
       "2"
      ]
     },
     "execution_count": 8,
     "metadata": {},
     "output_type": "execute_result"
    }
   ],
   "source": [
    "len(get_all_users_DB())"
   ]
  },
  {
   "cell_type": "code",
   "execution_count": 7,
   "metadata": {},
   "outputs": [],
   "source": [
    "telegram_id = 234\n",
    "api_id = 1242343\n",
    "api_hash = \"2342\"\n",
    "phone_number = \"+234234\"\n",
    "add_user_DB(telegram_id, api_id, api_hash, phone_number)"
   ]
  },
  {
   "cell_type": "code",
   "execution_count": null,
   "metadata": {},
   "outputs": [],
   "source": [
    "# from pyrogram.errors import SessionPasswordNeeded\n",
    "\n",
    "# async def enter_code(self, phone_code):\n",
    "#     \"\"\"Login using the received code.\"\"\"\n",
    "#     try:\n",
    "#         await self.app.sign_in(\n",
    "#             phone_number=self.phone_number,\n",
    "#             phone_code_hash=self.phone_code_hash,\n",
    "#             phone_code=phone_code\n",
    "#         )\n",
    "#         logger.info(\"Successfully logged in.\")\n",
    "#     except SessionPasswordNeeded:\n",
    "#         password = input(\"Please enter your two-step verification password: \")\n",
    "#         await self.app.check_password(password)\n",
    "#         logger.info(\"Successfully logged in with two-step verification.\")\n",
    "#     except Exception as e:\n",
    "#         logger.error(f\"Error during login: {e}\")\n",
    "#     finally:\n",
    "#         await self.app.disconnect()  # Disconnect after login if needed\n"
   ]
  }
 ],
 "metadata": {
  "kernelspec": {
   "display_name": ".venv",
   "language": "python",
   "name": "python3"
  },
  "language_info": {
   "codemirror_mode": {
    "name": "ipython",
    "version": 3
   },
   "file_extension": ".py",
   "mimetype": "text/x-python",
   "name": "python",
   "nbconvert_exporter": "python",
   "pygments_lexer": "ipython3",
   "version": "3.11.9"
  }
 },
 "nbformat": 4,
 "nbformat_minor": 2
}
