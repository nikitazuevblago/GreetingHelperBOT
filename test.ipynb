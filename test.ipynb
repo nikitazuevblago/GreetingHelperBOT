{
 "cells": [
  {
   "cell_type": "code",
   "execution_count": 2,
   "metadata": {},
   "outputs": [],
   "source": [
    "from db_interaction import *\n",
    "drop_tables_DB()\n",
    "create_tables_DB()"
   ]
  },
  {
   "cell_type": "code",
   "execution_count": 26,
   "metadata": {},
   "outputs": [
    {
     "name": "stdout",
     "output_type": "stream",
     "text": [
      "(1, datetime.datetime(2024, 12, 21, 21, 46, 22, 723559), 'INFO', '2024-12-21 21:46:21,822 - Table logs created successfully.')\n",
      "(2, datetime.datetime(2024, 12, 21, 21, 46, 22, 742176), 'INFO', '2024-12-21 21:46:21,843 - Creating table HOLIDAYS...')\n",
      "(3, datetime.datetime(2024, 12, 21, 21, 46, 22, 808155), 'INFO', '2024-12-21 21:46:21,902 - Table HOLIDAYS created successfully.')\n",
      "(4, datetime.datetime(2024, 12, 21, 21, 46, 22, 846162), 'INFO', '2024-12-21 21:46:21,949 - Database connection closed after table creation.')\n",
      "(5, datetime.datetime(2024, 12, 21, 21, 46, 22, 867514), 'INFO', \"2024-12-21 21:46:21,964 - Adding holiday 'Test Holiday' to HOLIDAYS table...\")\n",
      "(6, datetime.datetime(2024, 12, 21, 21, 46, 23, 12729), 'INFO', '2024-12-21 21:46:22,112 - Database connection established for adding holiday.')\n",
      "(7, datetime.datetime(2024, 12, 21, 21, 46, 23, 90511), 'INFO', \"2024-12-21 21:46:22,192 - Holiday 'Test Holiday' added successfully\")\n",
      "(8, datetime.datetime(2024, 12, 21, 21, 46, 23, 116155), 'INFO', '2024-12-21 21:46:22,213 - Database connection closed after adding holiday.')\n",
      "(9, datetime.datetime(2024, 12, 21, 21, 46, 23, 134155), 'INFO', \"2024-12-21 21:46:22,236 - Adding holiday 'Test TESTfasdfadf' to HOLIDAYS table...\")\n",
      "(10, datetime.datetime(2024, 12, 21, 21, 46, 23, 261928), 'INFO', '2024-12-21 21:46:22,365 - Database connection established for adding holiday.')\n",
      "(11, datetime.datetime(2024, 12, 21, 21, 46, 23, 340461), 'INFO', \"2024-12-21 21:46:22,445 - Holiday 'Test TESTfasdfadf' added successfully\")\n",
      "(12, datetime.datetime(2024, 12, 21, 21, 46, 23, 360143), 'INFO', '2024-12-21 21:46:22,462 - Database connection closed after adding holiday.')\n",
      "(13, datetime.datetime(2024, 12, 21, 21, 46, 23, 379436), 'INFO', '2024-12-21 21:46:22,482 - Test mode enabled. Dropping and recreating tables.')\n",
      "(14, datetime.datetime(2024, 12, 21, 21, 46, 23, 398322), 'INFO', '2024-12-21 21:46:22,503 - Starting bot...')\n",
      "(15, datetime.datetime(2024, 12, 21, 21, 46, 23, 563621), 'INFO', '2024-12-21 21:46:22,663 - Bot commands have been set successfully.')\n",
      "(16, datetime.datetime(2024, 12, 21, 21, 46, 23, 584945), 'INFO', '2024-12-21 21:46:22,685 - Bot polling started.')\n",
      "(17, datetime.datetime(2024, 12, 21, 21, 46, 23, 603928), 'INFO', '2024-12-21 21:46:22,702 - Holiday greeting task started.')\n",
      "(18, datetime.datetime(2024, 12, 21, 21, 46, 23, 626660), 'INFO', '2024-12-21 21:46:22,730 - Start polling')\n",
      "(19, datetime.datetime(2024, 12, 21, 21, 46, 23, 649494), 'INFO', '2024-12-21 21:46:22,748 - Waiting 0.00 minutes until 10:00 AM.')\n",
      "(20, datetime.datetime(2024, 12, 21, 21, 46, 23, 693652), 'INFO', \"2024-12-21 21:46:22,796 - Run polling for bot @GreetingHelperBOT id=7751098485 - 'Greeting Helper'\")\n",
      "(21, datetime.datetime(2024, 12, 21, 21, 46, 28, 768785), 'INFO', '2024-12-21 21:46:27,873 - Database connection established for fetching holidays on 21-12.')\n",
      "(22, datetime.datetime(2024, 12, 21, 21, 46, 28, 825421), 'INFO', '2024-12-21 21:46:27,930 - Fetched 2 holidays for 21-12.')\n",
      "(23, datetime.datetime(2024, 12, 21, 21, 46, 28, 848887), 'INFO', '2024-12-21 21:46:27,952 - Database connection closed after fetching holidays.')\n",
      "(24, datetime.datetime(2024, 12, 21, 21, 46, 28, 869837), 'ERROR', \"2024-12-21 21:46:27,974 - An error occurred in the holiday greeting task: 'user_id'\")\n"
     ]
    }
   ],
   "source": [
    "import psycopg2\n",
    "from dotenv import load_dotenv\n",
    "\n",
    "load_dotenv()\n",
    "\n",
    "import os\n",
    "def check_db_entries():\n",
    "    connection = psycopg2.connect(\n",
    "        user=os.getenv(\"DB_USER\"),\n",
    "        password=os.getenv(\"DB_PASSWORD\"),\n",
    "        host=os.getenv(\"DB_HOST\"),\n",
    "        port=os.getenv(\"DB_PORT\"),\n",
    "        database=os.getenv(\"DB_DATABASE\")\n",
    "    )\n",
    "    try:\n",
    "        cursor = connection.cursor()\n",
    "        cursor.execute(\"SELECT * FROM Logs;\")\n",
    "        records = cursor.fetchall()\n",
    "        for record in records:\n",
    "            print(record)\n",
    "        connection.commit()\n",
    "        #return records\n",
    "    except Exception as error:\n",
    "        print(f\"An error occurred: {error}\")\n",
    "    finally:\n",
    "        cursor.close()\n",
    "        connection.close()\n",
    "\n",
    "check_db_entries()"
   ]
  },
  {
   "cell_type": "code",
   "execution_count": null,
   "metadata": {},
   "outputs": [
    {
     "name": "stdout",
     "output_type": "stream",
     "text": [
      "5303965494 Test Holiday 21 12 [\"@TrackFoodExpensesBot\", \"@JKUClassNotifierBOT\"] How you been?\n"
     ]
    }
   ],
   "source": [
    "from datetime import datetime\n",
    "\n",
    "today = datetime.now().strftime(\"%d-%m\")\n",
    "day, month = map(int, today.split(\"-\"))\n",
    "add_holiday_DB(5303965494, \"Test Holiday\", day, month, ['@TrackFoodExpensesBot','@JKUClassNotifierBOT'], \"How you been?\")"
   ]
  },
  {
   "cell_type": "code",
   "execution_count": 1,
   "metadata": {},
   "outputs": [],
   "source": [
    "from db_interaction import *\n",
    "\n",
    "create_tables_DB()\n",
    "drop_tables_DB()\n",
    "create_tables_DB()"
   ]
  },
  {
   "cell_type": "code",
   "execution_count": 8,
   "metadata": {},
   "outputs": [
    {
     "data": {
      "text/plain": [
       "2"
      ]
     },
     "execution_count": 8,
     "metadata": {},
     "output_type": "execute_result"
    }
   ],
   "source": [
    "len(get_all_users_DB())"
   ]
  },
  {
   "cell_type": "code",
   "execution_count": 7,
   "metadata": {},
   "outputs": [],
   "source": [
    "telegram_id = 234\n",
    "api_id = 1242343\n",
    "api_hash = \"2342\"\n",
    "phone_number = \"+234234\"\n",
    "add_user_DB(telegram_id, api_id, api_hash, phone_number)"
   ]
  },
  {
   "cell_type": "markdown",
   "metadata": {},
   "source": [
    "# 2 Auth Factor"
   ]
  },
  {
   "cell_type": "code",
   "execution_count": null,
   "metadata": {},
   "outputs": [],
   "source": [
    "# from pyrogram.errors import SessionPasswordNeeded\n",
    "\n",
    "# async def enter_code(self, phone_code):\n",
    "#     \"\"\"Login using the received code.\"\"\"\n",
    "#     try:\n",
    "#         await self.app.sign_in(\n",
    "#             phone_number=self.phone_number,\n",
    "#             phone_code_hash=self.phone_code_hash,\n",
    "#             phone_code=phone_code\n",
    "#         )\n",
    "#         logger.info(\"Successfully logged in.\")\n",
    "#     except SessionPasswordNeeded:\n",
    "#         password = input(\"Please enter your two-step verification password: \")\n",
    "#         await self.app.check_password(password)\n",
    "#         logger.info(\"Successfully logged in with two-step verification.\")\n",
    "#     except Exception as e:\n",
    "#         logger.error(f\"Error during login: {e}\")\n",
    "#     finally:\n",
    "#         await self.app.disconnect()  # Disconnect after login if needed\n"
   ]
  }
 ],
 "metadata": {
  "kernelspec": {
   "display_name": ".venv",
   "language": "python",
   "name": "python3"
  },
  "language_info": {
   "codemirror_mode": {
    "name": "ipython",
    "version": 3
   },
   "file_extension": ".py",
   "mimetype": "text/x-python",
   "name": "python",
   "nbconvert_exporter": "python",
   "pygments_lexer": "ipython3",
   "version": "3.11.9"
  }
 },
 "nbformat": 4,
 "nbformat_minor": 2
}
